{
 "cells": [
  {
   "cell_type": "code",
   "execution_count": 11,
   "id": "b46cd28e",
   "metadata": {},
   "outputs": [],
   "source": [
    "import numpy as np\n",
    "import pandas as pd\n",
    "import re\n",
    "import csv"
   ]
  },
  {
   "cell_type": "code",
   "execution_count": 14,
   "id": "f7374edd",
   "metadata": {},
   "outputs": [],
   "source": [
    "# I read in my txt version of the textbook dictionary using utf-8 encoding and I'm able to read it in as a list of\n",
    "# lowercased russian words their page number and definition.\n",
    "nti = open('textbook_data/novice_to_intermediate.txt', encoding= 'utf8')\n",
    "nti = nti.read()"
   ]
  },
  {
   "cell_type": "code",
   "execution_count": 15,
   "id": "be18ad72",
   "metadata": {},
   "outputs": [
    {
     "data": {
      "text/plain": [
       "['авария 13 – traffic accident',\n",
       " 'автобус 12 – bus',\n",
       " 'автомобиль/машина 12 – car',\n",
       " 'автомойка 13 – car wash',\n",
       " 'аксессуары 13, 15 – accessories',\n",
       " 'алкогольный напиток 16 – alcoholic drink',\n",
       " 'аллергия 16 – allergy',\n",
       " 'альпинизм 10 – mountain climbing',\n",
       " 'ангина 16 – strep throat',\n",
       " 'анкета 14 – application form',\n",
       " 'апельсин 5 – orange',\n",
       " 'арбуз 5 – watermelon',\n",
       " 'аренда 11 – rent n.',\n",
       " 'аспирантура 1 – graduate school',\n",
       " 'афиша 10 – poster',\n",
       " 'банан 5 – banana',\n",
       " 'банкомат 13 – atm',\n",
       " 'барабаны 10 – drums',\n",
       " 'баскетбол 10 – basketball',\n",
       " 'бег 10 – running',\n",
       " 'бежать ~ бегать 12 – to run',\n",
       " 'pres.: я бегу, ты бежишь, они бегут/я бегаю, ты бегаешь, они бегают',\n",
       " 'past: он бежал, она бежала, они бежали/он бегал, она бегала, они бегали',\n",
       " 'imperative: (не) беги/те! (не) бегай/те!',\n",
       " 'без + gen. 3 – without',\n",
       " 'безветренный 15 – windless, calm',\n",
       " 'бел|о|к, pl. белки 5 – protein',\n",
       " 'бензин 13 – gasoline',\n",
       " 'берег, prep.: на берегу 1 – сoast, shore',\n",
       " 'бесплатный 14 – free']"
      ]
     },
     "execution_count": 15,
     "metadata": {},
     "output_type": "execute_result"
    }
   ],
   "source": [
    "nti_txt = nti.split('\\n')\n",
    "nti_txt_low = [x.lower() for x in nti_txt]\n",
    "ntiplay = nti_txt_low[:30]\n",
    "ntiplay"
   ]
  },
  {
   "cell_type": "markdown",
   "id": "85012757",
   "metadata": {},
   "source": [
    "It was ultimately easier to use a less coding-intensive solution to end up with a txt file that I can read into this environment. I'm going to try to keep the russian vocabulary item and its english definition so I'll try to get rid of some of the formatting weirdness with regular expressions. I will have to be careful with these extended definitions that continue on to multiple lines"
   ]
  },
  {
   "cell_type": "code",
   "execution_count": 16,
   "id": "ca8dccda",
   "metadata": {},
   "outputs": [
    {
     "data": {
      "text/plain": [
       "['авария– traffic accident',\n",
       " 'автобус– bus',\n",
       " 'автомобиль/машина– car',\n",
       " 'автомойка– car wash',\n",
       " 'аксессуары– accessories',\n",
       " 'алкогольный напиток– alcoholic drink',\n",
       " 'аллергия– allergy',\n",
       " 'альпинизм– mountain climbing',\n",
       " 'ангина– strep throat',\n",
       " 'анкета– application form',\n",
       " 'апельсин– orange',\n",
       " 'арбуз– watermelon',\n",
       " 'аренда– rent n.',\n",
       " 'аспирантура– graduate school',\n",
       " 'афиша– poster',\n",
       " 'банан– banana',\n",
       " 'банкомат– atm',\n",
       " 'барабаны– drums',\n",
       " 'баскетбол– basketball',\n",
       " 'бег– running',\n",
       " 'бежать ~ бегать– to run',\n",
       " 'pres.: я бегу, ты бежишь, они бегут/я бегаю, ты бегаешь, они бегают',\n",
       " 'past: он бежал, она бежала, они бежали/он бегал, она бегала, они бегали',\n",
       " 'imperative: (не) беги/те! (не) бегай/те!',\n",
       " 'без + gen.– without',\n",
       " 'безветренный– windless, calm',\n",
       " 'белок, pl. белки– protein',\n",
       " 'бензин– gasoline',\n",
       " 'берег, prep.: на берегу– сoast, shore',\n",
       " 'бесплатный– free']"
      ]
     },
     "execution_count": 16,
     "metadata": {},
     "output_type": "execute_result"
    }
   ],
   "source": [
    "# First, We need to get rid of any page numbers and extraneous white spaces\n",
    "ntiplay_cs = [re.sub('(\\s\\d+,|\\s\\d+\\s|\\|)', '', x) for x in ntiplay]\n",
    "ntiplay_cs"
   ]
  },
  {
   "cell_type": "markdown",
   "id": "6bf26b71",
   "metadata": {},
   "source": [
    "There are so many other considerations that have to be made for pulling some of these items out. I have to think more about what needs to be removed because there is a LOT of grammatical information coming in tandem with some of these items. For example the preposition \"без\" is being given with the case it governs (genitive). The verbs of motion \"бежать ~ бегать\" have present and past conjugations and imperatives along with the definition. Splitting on the new line character to create a list was a first good step, but I might have to go low tech and try to figure out which addtional info needs to be removed... frustrating"
   ]
  },
  {
   "cell_type": "code",
   "execution_count": 18,
   "id": "26fffaba",
   "metadata": {},
   "outputs": [],
   "source": [
    "# I'm running into more \n",
    "#russ_words = pd.read_csv(\"../Textbook_Vocab_Analysis/russian-word-list-total.csv\")"
   ]
  },
  {
   "cell_type": "code",
   "execution_count": null,
   "id": "f42c6cec",
   "metadata": {},
   "outputs": [],
   "source": []
  }
 ],
 "metadata": {
  "kernelspec": {
   "display_name": "Python 3 (ipykernel)",
   "language": "python",
   "name": "python3"
  },
  "language_info": {
   "codemirror_mode": {
    "name": "ipython",
    "version": 3
   },
   "file_extension": ".py",
   "mimetype": "text/x-python",
   "name": "python",
   "nbconvert_exporter": "python",
   "pygments_lexer": "ipython3",
   "version": "3.9.7"
  }
 },
 "nbformat": 4,
 "nbformat_minor": 5
}
